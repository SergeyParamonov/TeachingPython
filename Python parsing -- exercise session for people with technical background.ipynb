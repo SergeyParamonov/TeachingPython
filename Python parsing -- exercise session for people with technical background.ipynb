{
 "cells": [
  {
   "cell_type": "markdown",
   "metadata": {},
   "source": [
    "# What everyone is supposed to know\n",
    "\n",
    "If that's not true, let me know, we will discuss it!\n",
    "\n",
    "* Variables\n",
    "* Functions\n",
    "* Loops\n",
    "* Control Flow: if-then-else\n",
    "* Modules/Packages (e.g., how to import stuff)\n",
    "* A bit on standard networks: HTML, get/post requests, basic parsing\n",
    "* Theory and understanding (at least basic) of regular expressions\n",
    "* Classes (ok, basic general things)\n",
    "* Methods vs Functions (ok, basic name scoping)\n",
    "* Basic data formats: CSV (comma separted values), JSON, ..."
   ]
  },
  {
   "cell_type": "markdown",
   "metadata": {},
   "source": [
    "## Keep in mind: bugs and left out pieces\n",
    "\n",
    "The code here contains bugs or some parts are intentionally left out, you need to figure what is wrong or at least where it goes wrong -- if in doubt, ask me :-)"
   ]
  },
  {
   "cell_type": "markdown",
   "metadata": {},
   "source": [
    "# PANDAS!\n",
    "\n",
    "It's practically Akuna-Matata in Data Science\n",
    "\n",
    "It's a really high level library to wrap data operations with plenty of features that would make your life easier.\n",
    "\n",
    "It feels a lot like programming in R, but in Python :-) practically everything is vectorized"
   ]
  },
  {
   "cell_type": "code",
   "execution_count": null,
   "metadata": {},
   "outputs": [],
   "source": [
    "# Ok, let's start with this funny dataset, I have sent everyone a link to\n",
    "# https://yadi.sk/d/wYaZDVB53PTsKc\n",
    "\n",
    "import pandas as pd # that's an idiom on how to import pandas, pd would immediately tell everyone that it's pandas\n",
    "\n",
    "df = pd.read_csv(\"groups_channels_Oct_2017.csv\", sep=\";\")\n",
    "\n",
    "df.head() # returns top-5 records"
   ]
  },
  {
   "cell_type": "markdown",
   "metadata": {},
   "source": [
    "## Iterating over rows?\n",
    "\n",
    "That's really bad, all computations in pandas should be vectorized.\n",
    "\n",
    "Let's break this rule :-)"
   ]
  },
  {
   "cell_type": "code",
   "execution_count": null,
   "metadata": {},
   "outputs": [],
   "source": [
    "# Task one: complete this code, so it only prints URLS one-by-one\n",
    "df = df.iloc[:100]\n",
    "for index, row in df.iterrows():\n",
    "    print(row)\n",
    "    if index > 5:\n",
    "        break"
   ]
  },
  {
   "cell_type": "markdown",
   "metadata": {},
   "source": [
    "# Requests!\n",
    "\n",
    "Let's Grab the content.\n",
    "\n",
    "## You need to complete the code"
   ]
  },
  {
   "cell_type": "code",
   "execution_count": null,
   "metadata": {},
   "outputs": [],
   "source": [
    "# What you need:\n",
    "import requests # get data over the network\n",
    "from bs4 import BeautifulSoup # parse html\n",
    "import re # extract values\n",
    "\n",
    "\n",
    "url = \"https://t.me/aavst\"\n",
    "r = requests.get(url)\n",
    "\n",
    "print(r.status_code) # 200 means OK!\n",
    "print(r.headers['content-type']) # what kind of content is returned\n",
    "print(r.encoding) # what encoding is used\n",
    "\n",
    "HTML_content = r.content # store HTML into the variable content\n",
    "\n",
    "soup = BeautifulSoup(HTML_content,\"html.parser\" ) # here we apply \n",
    "html_tag_with_subscribers = soup.find(\"div\", {\"class\": \"FIGURE_OUT_WHAT_TO_WRITE_HERE\"}) # here we find the right tag with subcsribers\n",
    " \n",
    "number_of_subscribers = html_tag_with_subscribers.text\n",
    "\n",
    "print(number_of_subscribers)\n",
    "# that's not what we really wanted!\n",
    "\n",
    "# can we extract the numbers? --> regular expressions!\n",
    "\n",
    "found = re.search(\"WRITE REGULAR EXPRESSION HERE\", number_of_subscribers).group(0) # group here means the found match and we want the first one\n",
    "print(found)"
   ]
  },
  {
   "cell_type": "markdown",
   "metadata": {},
   "source": [
    "# Task:\n",
    "\n",
    "* Wrap it in a function \n",
    "* call for each url in the loop at the beginning (100 is enough, just in case)\n",
    "* Store in a file as a CSV, with the header \"channel_name,number_of_subscribers\"\n"
   ]
  },
  {
   "cell_type": "markdown",
   "metadata": {},
   "source": [
    "ok, I assume you have stored it in a file \"parsed.csv\""
   ]
  },
  {
   "cell_type": "code",
   "execution_count": null,
   "metadata": {},
   "outputs": [],
   "source": [
    "new_df = pd.read_csv(\"parsed.csv\")\n",
    "\n",
    "dif = df[u'Количество участников'] - new_df['subscribers'] # should give you the difference\n",
    "\n",
    "# You need to find what channel got most new subscribers\n",
    "# Average difference\n",
    "# Mediance difference\n",
    "# Overall difference"
   ]
  },
  {
   "cell_type": "code",
   "execution_count": null,
   "metadata": {},
   "outputs": [],
   "source": [
    "# Visualization: use the collected difference and visualize it as a distribution \n",
    "\n",
    "import matplotlib.pyplot as plt\n",
    "import seaborn as sns\n",
    "\n",
    "plt.figure()\n",
    "sns.\"<fill in the right method here\"(dif)\n",
    "plt.show()"
   ]
  },
  {
   "cell_type": "markdown",
   "metadata": {},
   "source": [
    "# Connecting to telegram\n",
    "\n",
    "* Get your ID\n",
    "* save it into a config\n",
    "* get data for one channel of your choice --> I'll write template code here\n",
    "* Analyze messages\n",
    "    * how many are there?\n",
    "    * Is there any text?\n",
    "    * What is the earliest message, what is the latests? Print their time\n",
    "    * "
   ]
  },
  {
   "cell_type": "markdown",
   "metadata": {},
   "source": [
    "## Obtain Telegram Developer ID\n",
    "https://core.telegram.org/api/obtaining_api_id\n",
    "\n",
    "* Pick a channel you like\n",
    "* Download messages\n",
    "* Parse JSON\n",
    "* Get stats\n",
    "* Try to wrap it in a cycle, how many channels could you parse in one go? What goes wrong?\n"
   ]
  },
  {
   "cell_type": "code",
   "execution_count": null,
   "metadata": {},
   "outputs": [],
   "source": [
    "# application.conf\n",
    "\n",
    "app_name = \"\"\n",
    "\n",
    "api_id = \"\"\n",
    "\n",
    "api_hash = \"\"\n",
    "\n",
    "phone_number = \"+\""
   ]
  },
  {
   "cell_type": "code",
   "execution_count": null,
   "metadata": {},
   "outputs": [],
   "source": [
    "from pyhocon import ConfigFactory\n",
    "\n",
    "config_path = '...'\n",
    "\n",
    "config = ConfigFactory.parse_file(config_path)\n",
    "\n",
    "def authorize(self, config):\n",
    "    ''' if not authorized, needs to go through 2 factor authorization, otherwise connects '''\n",
    "    client = TelegramClient(config.get(\"app_name\"), config.get(\"api_id\"), config.get(\"api_hash\"))\n",
    "    connect = client.connect()\n",
    "    authorized = client.is_user_authorized()\n",
    "    if authorized:\n",
    "        return client\n",
    "    client.sign_in(config.get('phone_number'))\n",
    "    try:\n",
    "        client.sign_in(code=input('Enter code: '))\n",
    "    except SessionPasswordNeededError:\n",
    "        client.sign_in(password=getpass.getpass())\n",
    "    return client\n"
   ]
  },
  {
   "cell_type": "code",
   "execution_count": null,
   "metadata": {},
   "outputs": [],
   "source": [
    "channel = client.get_entity(\"nplusone\")\n",
    "messages = client.get_message_history(channel, limit=10000)\n",
    "# let's learn how to pickle objects\n",
    "import pickle\n",
    "with open(\"messages.pickle\", \"w\") as outputfile: \n",
    "    pickle.dump(messages, outputfile)"
   ]
  },
  {
   "cell_type": "code",
   "execution_count": null,
   "metadata": {},
   "outputs": [],
   "source": [
    "# google how to load ... :-)"
   ]
  },
  {
   "cell_type": "markdown",
   "metadata": {},
   "source": [
    "## Analyze stats of messages... "
   ]
  }
 ],
 "metadata": {
  "kernelspec": {
   "display_name": "Python 3",
   "language": "python",
   "name": "python3"
  },
  "language_info": {
   "codemirror_mode": {
    "name": "ipython",
    "version": 3
   },
   "file_extension": ".py",
   "mimetype": "text/x-python",
   "name": "python",
   "nbconvert_exporter": "python",
   "pygments_lexer": "ipython3",
   "version": "3.6.4"
  }
 },
 "nbformat": 4,
 "nbformat_minor": 2
}
