{
 "cells": [
  {
   "cell_type": "markdown",
   "metadata": {},
   "source": [
    "# What everyone is supposed to know\n",
    "\n",
    "If that's not true, let me know, we will discuss it!\n",
    "\n",
    "* Variables\n",
    "* Functions\n",
    "* Loops\n",
    "* Control Flow: if-then-else\n",
    "* Modules/Packages (e.g., how to import stuff)\n",
    "* A bit on standard networks: HTML, get/post requests, basic parsing\n",
    "* Theory and understanding (at least basic) of regular expressions\n",
    "* Classes (ok, basic general things)\n",
    "* Methods vs Functions (ok, basic name scoping)\n",
    "* Basic data formats: CSV (comma separted values), JSON, ..."
   ]
  },
  {
   "cell_type": "markdown",
   "metadata": {},
   "source": [
    "# PANDAS!\n",
    "\n",
    "It's practically Akuna-Matata in Data Science\n",
    "\n",
    "It's a really high level library to wrap data operations with plenty of features that would make your life easier.\n",
    "\n",
    "It feels a lot like programming in R, but in Python :-) practically everything is vectorized"
   ]
  },
  {
   "cell_type": "code",
   "execution_count": 4,
   "metadata": {},
   "outputs": [
    {
     "data": {
      "text/html": [
       "<div>\n",
       "<style scoped>\n",
       "    .dataframe tbody tr th:only-of-type {\n",
       "        vertical-align: middle;\n",
       "    }\n",
       "\n",
       "    .dataframe tbody tr th {\n",
       "        vertical-align: top;\n",
       "    }\n",
       "\n",
       "    .dataframe thead th {\n",
       "        text-align: right;\n",
       "    }\n",
       "</style>\n",
       "<table border=\"1\" class=\"dataframe\">\n",
       "  <thead>\n",
       "    <tr style=\"text-align: right;\">\n",
       "      <th></th>\n",
       "      <th>URL</th>\n",
       "      <th>Короткий URL</th>\n",
       "      <th>Тип (Группа/Канал)</th>\n",
       "      <th>Название</th>\n",
       "      <th>Описание</th>\n",
       "      <th>Количество участников</th>\n",
       "      <th>URL фото</th>\n",
       "    </tr>\n",
       "  </thead>\n",
       "  <tbody>\n",
       "    <tr>\n",
       "      <th>0</th>\n",
       "      <td>https://t.me/a_navalny</td>\n",
       "      <td>@a_navalny</td>\n",
       "      <td>канал</td>\n",
       "      <td>Навальный</td>\n",
       "      <td>navalny.com - мой блог fbk.info - сайт ФБК ros...</td>\n",
       "      <td>250</td>\n",
       "      <td>https://cdn4.telesco.pe/file/oVPWyD_X1gCQXf6nc...</td>\n",
       "    </tr>\n",
       "    <tr>\n",
       "      <th>1</th>\n",
       "      <td>https://t.me/a_young_doctors_notebook</td>\n",
       "      <td>@a_young_doctors_notebook</td>\n",
       "      <td>канал</td>\n",
       "      <td>Записки юного врача</td>\n",
       "      <td>Авторский канал с медлайфхаками и простыми рас...</td>\n",
       "      <td>14865</td>\n",
       "      <td>https://cdn4.telesco.pe/file/Kb-oL9atW8col2RDv...</td>\n",
       "    </tr>\n",
       "    <tr>\n",
       "      <th>2</th>\n",
       "      <td>https://t.me/a3_agency</td>\n",
       "      <td>@a3_agency</td>\n",
       "      <td>канал</td>\n",
       "      <td>Агентство A3 Event &amp; MICE</td>\n",
       "      <td>А3 Event &amp; MICE - event-агентство полного цикл...</td>\n",
       "      <td>16</td>\n",
       "      <td>https://cdn4.telesco.pe/file/We2SDUdtleqWWLklN...</td>\n",
       "    </tr>\n",
       "    <tr>\n",
       "      <th>3</th>\n",
       "      <td>https://t.me/a7taker3</td>\n",
       "      <td>@a7taker3</td>\n",
       "      <td>канал</td>\n",
       "      <td>Ахмад Аль-хамдан</td>\n",
       "      <td>Из Арабского полуострова Бахрейн | @a7taker ar...</td>\n",
       "      <td>743</td>\n",
       "      <td>https://cdn4.telesco.pe/file/ACEyQsjBJj1j1ULsR...</td>\n",
       "    </tr>\n",
       "    <tr>\n",
       "      <th>4</th>\n",
       "      <td>https://t.me/aaa_oru</td>\n",
       "      <td>@aaa_oru</td>\n",
       "      <td>канал</td>\n",
       "      <td>ОРУ</td>\n",
       "      <td>Орём с мемчанских. Изредка ориджинал контент. ...</td>\n",
       "      <td>3220</td>\n",
       "      <td>https://cdn4.telesco.pe/file/NwXFcr3Xtm1g8Wnvz...</td>\n",
       "    </tr>\n",
       "  </tbody>\n",
       "</table>\n",
       "</div>"
      ],
      "text/plain": [
       "                                     URL               Короткий URL  \\\n",
       "0                 https://t.me/a_navalny                 @a_navalny   \n",
       "1  https://t.me/a_young_doctors_notebook  @a_young_doctors_notebook   \n",
       "2                 https://t.me/a3_agency                 @a3_agency   \n",
       "3                  https://t.me/a7taker3                  @a7taker3   \n",
       "4                   https://t.me/aaa_oru                   @aaa_oru   \n",
       "\n",
       "  Тип (Группа/Канал)                   Название  \\\n",
       "0              канал                  Навальный   \n",
       "1              канал        Записки юного врача   \n",
       "2              канал  Агентство A3 Event & MICE   \n",
       "3              канал           Ахмад Аль-хамдан   \n",
       "4              канал                        ОРУ   \n",
       "\n",
       "                                            Описание  Количество участников  \\\n",
       "0  navalny.com - мой блог fbk.info - сайт ФБК ros...                    250   \n",
       "1  Авторский канал с медлайфхаками и простыми рас...                  14865   \n",
       "2  А3 Event & MICE - event-агентство полного цикл...                     16   \n",
       "3  Из Арабского полуострова Бахрейн | @a7taker ar...                    743   \n",
       "4  Орём с мемчанских. Изредка ориджинал контент. ...                   3220   \n",
       "\n",
       "                                            URL фото  \n",
       "0  https://cdn4.telesco.pe/file/oVPWyD_X1gCQXf6nc...  \n",
       "1  https://cdn4.telesco.pe/file/Kb-oL9atW8col2RDv...  \n",
       "2  https://cdn4.telesco.pe/file/We2SDUdtleqWWLklN...  \n",
       "3  https://cdn4.telesco.pe/file/ACEyQsjBJj1j1ULsR...  \n",
       "4  https://cdn4.telesco.pe/file/NwXFcr3Xtm1g8Wnvz...  "
      ]
     },
     "execution_count": 4,
     "metadata": {},
     "output_type": "execute_result"
    }
   ],
   "source": [
    "# Ok, let's start with this funny dataset, I have sent everyone a link to\n",
    "# https://yadi.sk/d/wYaZDVB53PTsKc\n",
    "\n",
    "import pandas as pd # that's an idiom on how to import pandas, pd would immediately tell everyone that it's pandas\n",
    "\n",
    "df = pd.read_csv(\"groups_channels_Oct_2017.csv\", sep=\";\")\n",
    "\n",
    "df.head() # returns top-5 records"
   ]
  },
  {
   "cell_type": "markdown",
   "metadata": {},
   "source": [
    "## Iterating over rows?\n",
    "\n",
    "That's really bad, all computations in pandas should be vectorized.\n",
    "\n",
    "Let's break this rule :-)"
   ]
  },
  {
   "cell_type": "code",
   "execution_count": 9,
   "metadata": {},
   "outputs": [
    {
     "name": "stdout",
     "output_type": "stream",
     "text": [
      "URL                                                 https://t.me/a_navalny\n",
      "Короткий URL                                                    @a_navalny\n",
      "Тип (Группа/Канал)                                                   канал\n",
      "Название                                                         Навальный\n",
      "Описание                 navalny.com - мой блог fbk.info - сайт ФБК ros...\n",
      "Количество участников                                                  250\n",
      "URL фото                 https://cdn4.telesco.pe/file/oVPWyD_X1gCQXf6nc...\n",
      "Name: 0, dtype: object\n",
      "URL                                  https://t.me/a_young_doctors_notebook\n",
      "Короткий URL                                     @a_young_doctors_notebook\n",
      "Тип (Группа/Канал)                                                   канал\n",
      "Название                                               Записки юного врача\n",
      "Описание                 Авторский канал с медлайфхаками и простыми рас...\n",
      "Количество участников                                                14865\n",
      "URL фото                 https://cdn4.telesco.pe/file/Kb-oL9atW8col2RDv...\n",
      "Name: 1, dtype: object\n",
      "URL                                                 https://t.me/a3_agency\n",
      "Короткий URL                                                    @a3_agency\n",
      "Тип (Группа/Канал)                                                   канал\n",
      "Название                                         Агентство A3 Event & MICE\n",
      "Описание                 А3 Event & MICE - event-агентство полного цикл...\n",
      "Количество участников                                                   16\n",
      "URL фото                 https://cdn4.telesco.pe/file/We2SDUdtleqWWLklN...\n",
      "Name: 2, dtype: object\n",
      "URL                                                  https://t.me/a7taker3\n",
      "Короткий URL                                                     @a7taker3\n",
      "Тип (Группа/Канал)                                                   канал\n",
      "Название                                                  Ахмад Аль-хамдан\n",
      "Описание                 Из Арабского полуострова Бахрейн | @a7taker ar...\n",
      "Количество участников                                                  743\n",
      "URL фото                 https://cdn4.telesco.pe/file/ACEyQsjBJj1j1ULsR...\n",
      "Name: 3, dtype: object\n",
      "URL                                                   https://t.me/aaa_oru\n",
      "Короткий URL                                                      @aaa_oru\n",
      "Тип (Группа/Канал)                                                   канал\n",
      "Название                                                               ОРУ\n",
      "Описание                 Орём с мемчанских. Изредка ориджинал контент. ...\n",
      "Количество участников                                                 3220\n",
      "URL фото                 https://cdn4.telesco.pe/file/NwXFcr3Xtm1g8Wnvz...\n",
      "Name: 4, dtype: object\n",
      "URL                                                  https://t.me/aaferist\n",
      "Короткий URL                                                     @aaferist\n",
      "Тип (Группа/Канал)                                                   канал\n",
      "Название                                                  Записки афериста\n",
      "Описание                           что-то хочешь сказать мне ? @aferist666\n",
      "Количество участников                                                 1148\n",
      "URL фото                 https://cdn4.telesco.pe/file/geLcWwT6dzCx3m9C1...\n",
      "Name: 5, dtype: object\n",
      "URL                                                     https://t.me/aavst\n",
      "Короткий URL                                                        @aavst\n",
      "Тип (Группа/Канал)                                                   канал\n",
      "Название                                                   А.А. Венедиктов\n",
      "Описание                 См. также трансляцию эфиров К. Ремчукова- @Rem...\n",
      "Количество участников                                                 2437\n",
      "URL фото                 https://cdn4.telesco.pe/file/iUhnfLbekuowE2QOL...\n",
      "Name: 6, dtype: object\n"
     ]
    }
   ],
   "source": [
    "# Task one: complete this code, so it only prints URLS one-by-one\n",
    "df = df.iloc[:100]\n",
    "for index, row in df.iterrows():\n",
    "    print(row)\n",
    "    if index > 5:\n",
    "        break"
   ]
  },
  {
   "cell_type": "markdown",
   "metadata": {},
   "source": [
    "# Requests!\n",
    "\n",
    "Let's Grab the content.\n",
    "\n",
    "## You need to complete the code"
   ]
  },
  {
   "cell_type": "code",
   "execution_count": null,
   "metadata": {},
   "outputs": [],
   "source": [
    "# What you need:\n",
    "import requests # get data over the network\n",
    "from bs4 import BeautifulSoup # parse html\n",
    "import re # extract values\n",
    "\n",
    "\n",
    "url = \"https://t.me/aavst\"\n",
    "r = requests.get(url)\n",
    "\n",
    "print(r.status_code) # 200 means OK!\n",
    "print(r.headers['content-type']) # what kind of content is returned\n",
    "print(r.encoding) # what encoding is used\n",
    "\n",
    "HTML_content = r.content # store HTML into the variable content\n",
    "\n",
    "soup = BeautifulSoup(HTML_content,\"html.parser\" ) # here we apply \n",
    "html_tag_with_subscribers = soup.find(\"div\", {\"class\": \"FIGURE_OUT_WHAT_TO_WRITE_HERE\"}) # here we find the right tag with subcsribers\n",
    " \n",
    "number_of_subscribers = html_tag_with_subscribers.text\n",
    "\n",
    "print(number_of_subscribers)\n",
    "# that's not what we really wanted!\n",
    "\n",
    "# can we extract the numbers? --> regular expressions!\n",
    "\n",
    "found = re.search(\"WRITE REGULAR EXPRESSION HERE\", number_of_subscribers).group(0) # group here means the found match and we want the first one\n",
    "print(found)"
   ]
  },
  {
   "cell_type": "markdown",
   "metadata": {},
   "source": [
    "# Task:\n",
    "\n",
    "* Wrap it in a function \n",
    "* call for each url in the loop at the beginning (100 is enough, just in case)\n",
    "* Store in a file as a CSV, with the header \"channel_name,number_of_subscribers\"\n"
   ]
  },
  {
   "cell_type": "markdown",
   "metadata": {},
   "source": [
    "ok, I assume you have stored it in a file \"parsed.csv\""
   ]
  },
  {
   "cell_type": "code",
   "execution_count": 10,
   "metadata": {},
   "outputs": [
    {
     "ename": "SyntaxError",
     "evalue": "invalid syntax (<ipython-input-10-ef98d85c80ef>, line 2)",
     "output_type": "error",
     "traceback": [
      "\u001b[0;36m  File \u001b[0;32m\"<ipython-input-10-ef98d85c80ef>\"\u001b[0;36m, line \u001b[0;32m2\u001b[0m\n\u001b[0;31m    new df = pd.read_csv(\"groups_channels_Oct_2017.csv\", sep=\";\")\u001b[0m\n\u001b[0m         ^\u001b[0m\n\u001b[0;31mSyntaxError\u001b[0m\u001b[0;31m:\u001b[0m invalid syntax\n"
     ]
    }
   ],
   "source": [
    "new_df = pd.read_csv(\"parsed.csv\")\n",
    "\n",
    "dif = df[u'Количество участников'] - new_df['subscribers'] # should give you the difference\n",
    "\n",
    "# You need to find what channel got most new subscribers\n",
    "# Average difference\n",
    "# Mediance difference\n",
    "# Overall difference"
   ]
  },
  {
   "cell_type": "code",
   "execution_count": 11,
   "metadata": {},
   "outputs": [],
   "source": [
    "# Visualization: use the collected difference and visualize it as a distribution \n",
    "\n",
    "import matplotlib.pyplot as plt\n",
    "import seaborn as sns\n",
    "\n",
    "plt.figure()\n",
    "sns.\"<fill in the right method here\"(dif)\n",
    "plt.show()"
   ]
  },
  {
   "cell_type": "markdown",
   "metadata": {},
   "source": [
    "# Connecting to telegram\n",
    "\n",
    "## Get your ID\n",
    "save it into a config"
   ]
  }
 ],
 "metadata": {
  "kernelspec": {
   "display_name": "Python 3",
   "language": "python",
   "name": "python3"
  },
  "language_info": {
   "codemirror_mode": {
    "name": "ipython",
    "version": 3
   },
   "file_extension": ".py",
   "mimetype": "text/x-python",
   "name": "python",
   "nbconvert_exporter": "python",
   "pygments_lexer": "ipython3",
   "version": "3.6.4"
  }
 },
 "nbformat": 4,
 "nbformat_minor": 2
}
