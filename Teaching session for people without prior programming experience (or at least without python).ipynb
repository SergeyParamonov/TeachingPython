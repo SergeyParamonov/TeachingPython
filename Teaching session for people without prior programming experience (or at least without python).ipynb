{
 "cells": [
  {
   "cell_type": "markdown",
   "metadata": {},
   "source": [
    "# Control Flow\n",
    "\n",
    "Here we are going to look into three key components of control flow\n",
    "\n",
    "* Variable\n",
    "* If statements \n",
    "* Loops\n",
    "* Functions\n",
    "* Modules"
   ]
  },
  {
   "cell_type": "markdown",
   "metadata": {},
   "source": [
    "## Variables\n",
    "\n",
    "Are used to store values and can be used in your program to pass the samevalues"
   ]
  },
  {
   "cell_type": "code",
   "execution_count": 9,
   "metadata": {},
   "outputs": [
    {
     "name": "stdout",
     "output_type": "stream",
     "text": [
      "10\n",
      "test\n"
     ]
    }
   ],
   "source": [
    "# This is a comment, all comments in python start with # symbol that are not executed\n",
    "\n",
    "# This is a variable\n",
    "s = 10\n",
    "# Python is case sensitive, so S and s are two different variables\n",
    "S = \"test\"\n",
    "# print is a function that prints things in the output, what would it print?\n",
    "print(s)\n",
    "# and this?\n",
    "print(S)"
   ]
  },
  {
   "cell_type": "markdown",
   "metadata": {},
   "source": [
    "## If statements\n",
    "\n",
    "Are used to change the execution branch based on their values, if < condition > then do X, else do Y\n",
    "\n",
    "Related joke:\n",
    "A programmer is going to the grocery store and his wife tells him, \n",
    "\n",
    "\"Buy a gallon of milk, and if there are eggs, buy a dozen.\" \n",
    "\n",
    "So the programmer goes, buys everything, and drives back to his house. \n",
    "\n",
    "Upon arrival, his wife angrily asks him, \"Why did you get 13 gallons of milk?\" \n",
    "\n",
    "The programmer says, \"There were eggs!\""
   ]
  },
  {
   "cell_type": "code",
   "execution_count": 8,
   "metadata": {},
   "outputs": [
    {
     "name": "stdout",
     "output_type": "stream",
     "text": [
      "x is ok\n"
     ]
    }
   ],
   "source": [
    "x = 42 # we store a value in the variable x and then make a \n",
    "if x > 42:\n",
    "      print(\"x is so big\")\n",
    "else:\n",
    "      print(\"x is ok\")\n",
    "        "
   ]
  },
  {
   "cell_type": "code",
   "execution_count": 7,
   "metadata": {},
   "outputs": [
    {
     "name": "stdout",
     "output_type": "stream",
     "text": [
      "x is smaller than y\n"
     ]
    }
   ],
   "source": [
    "# More conditions!!1\n",
    "x = 42\n",
    "y = 43\n",
    "if x > y:\n",
    "      print(\"x is bigger than y\")\n",
    "elif x == y:\n",
    "      print(\"x is equal to y\")\n",
    "else:\n",
    "      print(\"x is smaller than y\")\n",
    "# What is it going to print?"
   ]
  },
  {
   "cell_type": "code",
   "execution_count": 6,
   "metadata": {},
   "outputs": [
    {
     "name": "stdout",
     "output_type": "stream",
     "text": [
      "x is so big\n",
      "x is so small\n"
     ]
    }
   ],
   "source": [
    "# Here we learn why spaces (tabs, etc, i.e., indentation) are important\n",
    "x = 42\n",
    "if x > 11:\n",
    "      print(\"x is so big\")\n",
    "else:\n",
    "      print(\"really,\")\n",
    "print(\"x is so small\")\n",
    "\n",
    "# What is it going to print?"
   ]
  },
  {
   "cell_type": "code",
   "execution_count": 10,
   "metadata": {},
   "outputs": [
    {
     "name": "stdout",
     "output_type": "stream",
     "text": [
      "something needs to be changed\n"
     ]
    }
   ],
   "source": [
    "# Multiple conditions in one if\n",
    "x = 42\n",
    "y = \"Test\"\n",
    "\n",
    "if x > 100 and y != \"Test\":\n",
    "      print(\"good job!\")\n",
    "else:\n",
    "      print(\"something needs to be changed\")"
   ]
  },
  {
   "cell_type": "markdown",
   "metadata": {},
   "source": [
    "## Loops\n",
    "\n",
    "They are needed to automate repeated actions"
   ]
  },
  {
   "cell_type": "code",
   "execution_count": 15,
   "metadata": {},
   "outputs": [
    {
     "name": "stdout",
     "output_type": "stream",
     "text": [
      "0\n",
      "1\n",
      "2\n",
      "3\n",
      "4\n",
      "5\n",
      "6\n",
      "7\n",
      "8\n",
      "9\n",
      "10\n"
     ]
    }
   ],
   "source": [
    "# Imagine you need to print numbers from 1 to 10, each on a new line\n",
    "# You can easily solve it by doing\n",
    "print(0)\n",
    "print(1)\n",
    "print(2)\n",
    "print(3)\n",
    "print(4)\n",
    "print(5)\n",
    "print(6)\n",
    "print(7)\n",
    "print(8)\n",
    "print(9)\n",
    "print(10)"
   ]
  },
  {
   "cell_type": "code",
   "execution_count": 16,
   "metadata": {},
   "outputs": [
    {
     "name": "stdout",
     "output_type": "stream",
     "text": [
      "0\n",
      "1\n",
      "2\n",
      "3\n",
      "4\n",
      "5\n",
      "6\n",
      "7\n",
      "8\n",
      "9\n",
      "10\n"
     ]
    }
   ],
   "source": [
    "for x in range(11):\n",
    "      print(x)\n",
    "        \n",
    "# it has the form as follows \n",
    "# for <variable> in range(<number>):\n",
    "#     do-stuff-here\n",
    "# Keep in mind, that it enumerates values from 0 to <number>-1"
   ]
  },
  {
   "cell_type": "code",
   "execution_count": 17,
   "metadata": {},
   "outputs": [
    {
     "name": "stdout",
     "output_type": "stream",
     "text": [
      "315\n"
     ]
    }
   ],
   "source": [
    "s = 0 # first, we put zero into s      \n",
    "for x in range(5,26): # x is in the range from 5 to 100 -- arguments of all functions are separated by commas\n",
    "      s = s + x # we add x to s\n",
    "print(s) # printing the sum"
   ]
  },
  {
   "cell_type": "code",
   "execution_count": 18,
   "metadata": {},
   "outputs": [
    {
     "name": "stdout",
     "output_type": "stream",
     "text": [
      "1665\n"
     ]
    }
   ],
   "source": [
    "# Combine cycles with ifs\n",
    "# Find sum from 10 to 100, but only for numbers divisible by 3\n",
    "\n",
    "s = 0 # so put zero into the sum\n",
    "for x in range(10,100): # x must be from 10 to 100\n",
    "      if x % 3 == 0: # if x is divisible by 3 i.e. if what is left are divison is zero, then add it!\n",
    "         s = s + x\n",
    "print(s)"
   ]
  },
  {
   "cell_type": "markdown",
   "metadata": {},
   "source": [
    "## Functions\n",
    "\n",
    "Are used to define computations using higher order terms"
   ]
  },
  {
   "cell_type": "code",
   "execution_count": 23,
   "metadata": {},
   "outputs": [
    {
     "name": "stdout",
     "output_type": "stream",
     "text": [
      "1\n",
      "4\n",
      "9\n",
      "16\n",
      "25\n"
     ]
    }
   ],
   "source": [
    "def f(x): # keyword \"def\" says that what follows is a function name, in (...) you give input parameters\n",
    "    return x * x # return indicates the function's output\n",
    "\n",
    "y = [1,2,3,4,5]\n",
    "for z in y:\n",
    "      print(f(z))"
   ]
  },
  {
   "cell_type": "code",
   "execution_count": 24,
   "metadata": {},
   "outputs": [
    {
     "name": "stdout",
     "output_type": "stream",
     "text": [
      "Harry Potter and Python Programming\n",
      "Harry Potter and the adventures in Bishkek\n"
     ]
    }
   ],
   "source": [
    "# Functions can also return nothing, for example\n",
    "\n",
    "def print_with_harry_potter(X):\n",
    "    print(\"Harry Potter and \"+str(X)) # str of X returns, the string representation of X, i.e., str(5) returns \"5\"\n",
    "    \n",
    "print_with_harry_potter(\"Python Programming\")\n",
    "print_with_harry_potter(\"the adventures in Bishkek\")"
   ]
  },
  {
   "cell_type": "markdown",
   "metadata": {},
   "source": [
    "## Modules\n",
    "\n",
    "Here we actually start doing parsing"
   ]
  },
  {
   "cell_type": "code",
   "execution_count": 41,
   "metadata": {},
   "outputs": [],
   "source": [
    "import requests # we say to python useful functions to work with networks\n",
    "from bs4 import BeautifulSoup # this is a library that allows us to parse HTML into python objects and it allows us to manipute these objects"
   ]
  },
  {
   "cell_type": "code",
   "execution_count": 52,
   "metadata": {},
   "outputs": [
    {
     "name": "stdout",
     "output_type": "stream",
     "text": [
      "200\n",
      "text/html; charset=utf-8\n",
      "utf-8\n",
      "20 064 members\n",
      "20 064 \n"
     ]
    }
   ],
   "source": [
    "r = requests.get(\"https://t.me/nplusone\")\n",
    "print(r.status_code) # 200 means OK!\n",
    "print(r.headers['content-type']) # what kind of content is returned\n",
    "print(r.encoding) # what encoding is used\n",
    "\n",
    "HTML_content = r.content # store HTML into the variable content\n",
    "\n",
    "soup = BeautifulSoup(HTML_content,\"html.parser\" ) # here we apply \n",
    "html_tag_with_subscribers = soup.find(\"div\", {\"class\": \"tgme_page_extra\"}) # here we find the right tag with subcsribers\n",
    " \n",
    "number_of_subscribers = html_tag_with_subscribers.text\n",
    "\n",
    "print(number_of_subscribers)\n",
    "# that's not what we really wanted!\n",
    "\n",
    "# can we extract the numbers? --> regular expressions!\n",
    "\n",
    "import re # we import them into \n",
    "\n",
    "found = re.search(\"[\\d\\s]+\", number_of_subscribers).group(0) # group here means the found match and we want the first one\n",
    "print(found)"
   ]
  },
  {
   "cell_type": "markdown",
   "metadata": {},
   "source": [
    "# Tasks! \n",
    "\n",
    "Do them in a team or on your own, if anything ping us!\n",
    "\n",
    "Copy paste them into your IDE and execute :-)"
   ]
  },
  {
   "cell_type": "markdown",
   "metadata": {},
   "source": [
    "## Task 1: variables\n",
    "\n",
    "Create a variable, assing your name into it and print it out"
   ]
  },
  {
   "cell_type": "markdown",
   "metadata": {},
   "source": [
    "## Task 2: if statements\n",
    "modify the condition such that it prints \"jood job\""
   ]
  },
  {
   "cell_type": "code",
   "execution_count": 11,
   "metadata": {},
   "outputs": [
    {
     "name": "stdout",
     "output_type": "stream",
     "text": [
      "something needs to be changed\n"
     ]
    }
   ],
   "source": [
    "# Multiple conditions in one if\n",
    "x = 42\n",
    "y = \"Test\"\n",
    "\n",
    "if x > 100 and y != \"Test\":\n",
    "      print(\"good job!\")\n",
    "else:\n",
    "      print(\"something needs to be changed\")"
   ]
  },
  {
   "cell_type": "markdown",
   "metadata": {},
   "source": [
    "## Task 3: loops\n",
    "\n",
    "Modify the code below, so it would print the whole array, use function len(.) on the array x"
   ]
  },
  {
   "cell_type": "code",
   "execution_count": 22,
   "metadata": {},
   "outputs": [
    {
     "name": "stdout",
     "output_type": "stream",
     "text": [
      "42\n",
      "cat\n"
     ]
    }
   ],
   "source": [
    "x = [42, \"cat\", 41, 40, \"dog\", \"sausage\"] # that's an array: number, string, number, number, string, string\n",
    "l = 2 # re-assing it here to l = ...(x)\n",
    "for i in range(l):\n",
    "      print(x[i])"
   ]
  },
  {
   "cell_type": "markdown",
   "metadata": {},
   "source": [
    "## Task 4: recursion and Fibonacci-sequence\n",
    "\n",
    "That's a tricky one, so I will help you a bit with the template\n",
    "\n",
    "1,1,2,3,5,8,13,21...\n",
    "\n",
    "The Fibonacci-sequence is defined as follows: first two numbers are 1's, i.e. 1 and 1\n",
    "\n",
    "The next number is the sum of the two previous ones, i.e., 1+1=2 is the third number, while the next one is 1+2 = 3...\n",
    "\n",
    "So formally speaking, fib(n) = fib(n-1) + fib(n-2) and fib(1) = 1, fib(2) = 1"
   ]
  },
  {
   "cell_type": "code",
   "execution_count": 28,
   "metadata": {},
   "outputs": [
    {
     "ename": "SyntaxError",
     "evalue": "invalid syntax (<ipython-input-28-89a3c27dcbd3>, line 2)",
     "output_type": "error",
     "traceback": [
      "\u001b[0;36m  File \u001b[0;32m\"<ipython-input-28-89a3c27dcbd3>\"\u001b[0;36m, line \u001b[0;32m2\u001b[0m\n\u001b[0;31m    if n == 1 or # < complete the code here > :\u001b[0m\n\u001b[0m                                               ^\u001b[0m\n\u001b[0;31mSyntaxError\u001b[0m\u001b[0;31m:\u001b[0m invalid syntax\n"
     ]
    }
   ],
   "source": [
    "def fib(n):\n",
    "    if n == 1 or # < complete the code here > :\n",
    "        return 1\n",
    "    else:\n",
    "        return fib(n-1) # < complete the code > ....\n",
    "    \n",
    "\n",
    "print(fib(1))\n",
    "print(fib(3))\n",
    "print(fib(5))\n",
    "print(fib(10))\n",
    "print(fib(12))"
   ]
  },
  {
   "cell_type": "markdown",
   "metadata": {},
   "source": [
    "## Parsing\n",
    "\n",
    "Modify and run the code to obtain\n",
    "\n",
    "* Number of subscribers of your favourite telegram channel\n",
    "* It's description"
   ]
  }
 ],
 "metadata": {
  "kernelspec": {
   "display_name": "Python 3",
   "language": "python",
   "name": "python3"
  },
  "language_info": {
   "codemirror_mode": {
    "name": "ipython",
    "version": 3
   },
   "file_extension": ".py",
   "mimetype": "text/x-python",
   "name": "python",
   "nbconvert_exporter": "python",
   "pygments_lexer": "ipython3",
   "version": "3.6.4"
  }
 },
 "nbformat": 4,
 "nbformat_minor": 2
}
